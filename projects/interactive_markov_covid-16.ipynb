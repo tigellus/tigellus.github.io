{
 "cells": [
  {
   "cell_type": "code",
   "execution_count": 1,
   "metadata": {},
   "outputs": [],
   "source": [
    "import ipywidgets as widgets\n",
    "from ipywidgets import interact, interact_manual\n",
    "import numpy as np\n",
    "import pandas as pd"
   ]
  },
  {
   "cell_type": "markdown",
   "metadata": {},
   "source": [
    "#### Modeling assumptions:\n",
    "- Model assuming negligible diffusion from border crossing\n",
    "- Carriers are contagious from day 0\n",
    "\n",
    "#### Epidemiologic assumptions:\n",
    "Sources:\n",
    "- Source https://annals.org/aim/fullarticle/2762808/incubation-period-coronavirus-disease-2019-covid-19-from-publicly-reported\n",
    "- Source https://www.epicentro.iss.it/coronavirus/bollettino/Report-COVID-2019_17_marzo-v2.pdf\n",
    "- Source https://www.cdc.gov/mmwr/volumes/69/wr/mm6912e2.htm\n",
    "- Source Vo Euganeo study (test perfomed in entire population)\n",
    "\n",
    "#### Modeling:\n",
    "\n",
    "**Discrete Markov Chain** modeling states:\n",
    "- *Healthy* ($H$)\n",
    "- *Carriers* ($C$)\n",
    "- *Symptomatic* ($S$)\n",
    "- *Hospitalizable* ($X$)\n",
    "- *Dead* ($D$)\n",
    "- *Immune* ($I$)\n",
    "\n",
    "\n",
    "Possible transitions:\n",
    "- $H \\rightarrow C$: rate depends on transmission model (dobumented below)\n",
    "- $C \\rightarrow S$\n",
    "- $C \\rightarrow I$\n",
    "- $S \\rightarrow I$\n",
    "- $S \\rightarrow X$\n",
    "- $H \\rightarrow D$\n",
    "- $H \\rightarrow I$\n",
    "\n",
    "$I$ and $D$ are absorbing states.\n",
    "\n",
    "### Countermeasures\n",
    "We use the virus $R_0$ to model the spreading of the disease. We assume are three scenarios for $R_0$: no countermeasures, mild countermeasures (social distancing) and strict countermeasures (total lockdown). We use $R_0=2.5$ (widely assumed to be the $R_0$ of COVID-19), $R_0=1.5$ and $R_0=0.9$ respectively. \n"
   ]
  },
  {
   "cell_type": "code",
   "execution_count": 53,
   "metadata": {},
   "outputs": [],
   "source": [
    "states = ['H', 'C', 'S', 'X', 'D', 'I']\n",
    "state_index = dict(zip(states, [0, 1, 2, 3, 4, 5])) \n",
    "state_name = dict(zip(states, [\"Healthy\",\n",
    "                               \"Carrier\",\n",
    "                               \"Symptomatic\",\n",
    "                               \"Hospitalizable\",\n",
    "                               \"Dead\",\n",
    "                               \"Immune\"]))\n",
    "\n",
    "#these are three scenarios for R_0: no countermeasures, mild countermeasures, strict countermeasures\n",
    "R_0 = [2.5, 1.7, 0.9]\n",
    "lenght_of_sickness_for_R_0 = 20 #days"
   ]
  },
  {
   "cell_type": "markdown",
   "metadata": {},
   "source": [
    "#### Probabilities and intensities (following epidemiologic study)\n",
    "The numbers below define the dynamic of the contagion. They are mostly based on the press releases of the CDC and on the study performed by the Vo Euganeo municipality (tested the entire population) in the epicenter of the Italian outbreak."
   ]
  },
  {
   "cell_type": "code",
   "execution_count": 42,
   "metadata": {},
   "outputs": [
    {
     "name": "stdout",
     "output_type": "stream",
     "text": [
      "Share of symptomatic carriers: 0.4\n",
      "Share of symptomatic cases needing hospitalization: 0.267545937117\n",
      "Death rate among hospitalizable cases: 0.0971795732731\n"
     ]
    }
   ],
   "source": [
    "\n",
    "#########################\n",
    "# PROBABILITY ASSUMPTIONS\n",
    "#########################\n",
    "\n",
    "asymptomatic_carriers_vs_all = 0.60 # following the study of Vo Euganeo\n",
    "prob_symptomatic_from_carrier = 1 - asymptomatic_carriers_vs_all\n",
    "prob_immune_from_carrier = 1 - prob_symptomatic_from_carrier\n",
    "print(\"Share of symptomatic carriers: \"+str(prob_symptomatic_from_carrier))\n",
    "\n",
    "# using the CDC ranges to calculate the probability to need\n",
    "# hospitalization once developed symptoms\n",
    "\n",
    "w_sum_cdc = (123*sum([1.6,2.5])/2+705*sum([14.3,20.8])/2+429*sum([21.2,28.3])/2+429*sum([20.5,30.1])/2+409*sum([28.6,43.5])/2+210*sum([30.5,58.7])/2+144*sum([31.3,70.3])/2)/2449\n",
    "\n",
    "prob_hospitalizable_from_symptomatic = w_sum_cdc/100 #following CDC estimates\n",
    "print(\"Share of symptomatic cases needing hospitalization: \"+str(prob_hospitalizable_from_symptomatic))\n",
    "\n",
    "prob_immune_from_symptomatic = 1 - prob_hospitalizable_from_symptomatic\n",
    "\n",
    "# using the CDC ranges to calculate the probability to die after needing\n",
    "# hospitalization. The CDC calculated a death rate of 1.8-3.4% among\n",
    "# all symptomatic cases\n",
    "dr_cdc = ((1.8+3.4)/2)/prob_hospitalizable_from_symptomatic\n",
    "\n",
    "prob_dead_from_hospitalizable = dr_cdc/100\n",
    "print(\"Death rate among hospitalizable cases: \"+str(prob_dead_from_hospitalizable))\n",
    "\n",
    "prob_immune_from_hospitalizable = 1 - prob_dead_from_hospitalizable\n",
    "\n",
    "####################\n",
    "# TIME ASSUMPTIONS\n",
    "####################\n",
    "\n",
    "\n",
    "# avg number of days from the first contact with virus to first symptoms\n",
    "carrier_to_symptomatic_avg = 6 # Source https://annals.org/aim/fullarticle/2762808/incubation-period-coronavirus-disease-2019-covid-19-from-publicly-reported\n",
    "\n",
    "# avg number of days from carrying to become immune\n",
    "\n",
    "carrier_to_immune_avg = 10 # Multiple sources\n",
    "\n",
    "symptomatic_to_immune_avg = 11 # Multiple sources\n",
    "\n",
    "symptomatic_to_hospitalizable_avg = 5 # Multiple sources\n",
    "\n",
    "hospitalizable_to_death_avg = 4 # Source https://www.epicentro.iss.it/coronavirus/bollettino/Report-COVID-2019_17_marzo-v2.pdf\n",
    "\n",
    "hospitalizable_to_immune_avg = 12 # Multiple sources\n",
    "\n",
    "\n",
    "##########################\n",
    "# TRANSITION PROBABILITIES\n",
    "##########################\n",
    "# the following are transition probabilities in one day\n",
    "\n",
    "# from healthy (H) to carrier C depends on the population vector, doing it in the function\n",
    "\n",
    "# from carrier (C) to symptomatic (S)\n",
    "# computing this taking the likelihood to develop symptoms and multiplying by likelihood to get symptoms today\n",
    "cs = prob_symptomatic_from_carrier * 1 / carrier_to_symptomatic_avg\n",
    "\n",
    "# from carrier (C) to immune (I)\n",
    "ci = prob_immune_from_carrier * 1 / carrier_to_immune_avg\n",
    "\n",
    "# from symptomatic (S) to hospitalizable (X)\n",
    "sx = prob_hospitalizable_from_symptomatic * 1 / symptomatic_to_hospitalizable_avg\n",
    "\n",
    "# from symptomatic (S) to immune (I)\n",
    "si = prob_immune_from_symptomatic * 1 / symptomatic_to_immune_avg\n",
    "\n",
    "# from hospitalizable (X) to dead (D)\n",
    "xd = prob_dead_from_hospitalizable * 1 / hospitalizable_to_death_avg\n",
    "\n",
    "# from hospitalizable (X) to immune (I)\n",
    "xi = prob_immune_from_hospitalizable * 1 / hospitalizable_to_immune_avg\n",
    "\n",
    "\n"
   ]
  },
  {
   "cell_type": "markdown",
   "metadata": {},
   "source": [
    "### Virus transmission modeling\n",
    "__H -> C__: depends on reproduction number of COVID-19, share of carriers, symptomatic, hospitalizable, healthy and immune population, and on the countermeasures implemented in the population.\n",
    "One person has R_0 / (length of sickness) transmission opportunities per day to transmit/contract this virus, assuming no countermeasures. If the person is healthy, contagion happens if the transmission opportunity happens with a sick person.\n"
   ]
  },
  {
   "cell_type": "code",
   "execution_count": 43,
   "metadata": {},
   "outputs": [],
   "source": [
    "####################\n",
    "# TRANSMISSION MODEL\n",
    "####################\n",
    "def covid_19_one_day(population, countermeasures=0):\n",
    "    H = population[state_index['H']]\n",
    "    C = population[state_index['C']]\n",
    "    S = population[state_index['S']]\n",
    "    X = population[state_index['X']]\n",
    "    D = population[state_index['D']]\n",
    "    I = population[state_index['I']]\n",
    "\n",
    "    # A person has R_0 / (length of sickness) opportunities per day to transmit/contract this virus\n",
    "    # If the person is healthy, needs to meet a sick person to contract on the contract opportunity\n",
    "    hc = R_0[countermeasures] / lenght_of_sickness_for_R_0 * (C + S + X)/(H + C + S + X + I)\n",
    "\n",
    "    #Transition matrix\n",
    "    covid_19 = np.array([[1-hc, hc, 0, 0, 0, 0],\n",
    "                        [0, 1-cs-ci, cs, 0, 0, ci],\n",
    "                        [0, 0, 1-sx-si, sx, 0, si],\n",
    "                        [0, 0, 0, 1-xd-xi, xd, xi],\n",
    "                        [0, 0, 0, 0, 1, 0],\n",
    "                        [0, 0, 0, 0, 0, 1]])\n",
    "    #one step\n",
    "    population_1 = np.dot(population,covid_19)\n",
    "    return population_1\n"
   ]
  },
  {
   "cell_type": "code",
   "execution_count": 47,
   "metadata": {},
   "outputs": [],
   "source": [
    "#Just a plotting function\n",
    "\n",
    "def plot_evolution(evolution, labels = states):\n",
    "    #rearrange columns\n",
    "    permutation = [5,0,1,2,3,4]\n",
    "    evo_for_plot = np.array(evolution)\n",
    "    idx = np.empty_like(permutation)\n",
    "    idx[permutation] = np.arange(len(permutation))\n",
    "    evo_for_plot[:] = evo_for_plot[:, idx]  # rearrange evolution\n",
    "    \n",
    "    labels_for_plot = labels[:]\n",
    "    for i in range(0,len(labels)):\n",
    "        labels_for_plot[permutation[i]] = labels[i] #rearrange labels\n",
    "    #create DataFrame for plotting\n",
    "    df = pd.DataFrame(evo_for_plot, columns=labels_for_plot)\n",
    "    plt = df.plot.area()\n",
    "    df[[\"C\", \"X\", \"D\"]].plot.line()\n",
    "    \n",
    "    \n",
    "def stats_evolution(evolution, labels=states):\n",
    "    final_state = evolution[len(evolution)-1]\n",
    "    #Calculate the maximum number of hospitalized\n",
    "    max_hospitalized = 0\n",
    "    for state_day in evolution:\n",
    "        if state_day[state_index['X']] > max_hospitalized:\n",
    "            max_hospitalized = state_day[state_index['X']]\n",
    "    \n",
    "    print(\"Highest peak of hospitalizable people: \" + str(max_hospitalized) )\n",
    "    #Calculate the death rate among all carriers\n",
    "    death_rate = float(final_state[state_index['D']])/(sum(final_state)-final_state[state_index['D']])\n",
    "    print(\"Death rate: \" + str(death_rate))\n",
    "    \n",
    "    #Show steady state\n",
    "    print(\"Final state of the simulation: \")\n",
    "    print(dict(zip(labels,final_state)))"
   ]
  },
  {
   "cell_type": "code",
   "execution_count": 55,
   "metadata": {},
   "outputs": [],
   "source": [
    "def simulate_covid19(Healthy,\n",
    "                     Dead, \n",
    "                     Immune, \n",
    "                     total_days,\n",
    "                     social_distance_after,\n",
    "                     lockdown_after):\n",
    "    Healthy = float(Healthy)\n",
    "    Dead = float(Dead)\n",
    "    Immune = float(Immune)\n",
    "    #following assumptions above\n",
    "    Hospitalizable = Dead * (1 - prob_dead_from_hospitalizable) / prob_dead_from_hospitalizable\n",
    "    Symptomatic = Hospitalizable * (1 - prob_hospitalizable_from_symptomatic)/prob_hospitalizable_from_symptomatic\n",
    "    Carriers = Symptomatic * (1 - prob_symptomatic_from_carrier) / prob_symptomatic_from_carrier\n",
    "    \n",
    "    pop_vector = [Healthy, Carriers, Symptomatic, Hospitalizable, Dead , Immune]\n",
    "    print(\"Starting population vector\")\n",
    "    print(pop_vector)\n",
    "    all_population = sum(pop_vector)\n",
    "    pop_vector = [num / all_population for num in pop_vector]\n",
    "    population_vector = np.array(pop_vector)\n",
    "    evolution = []\n",
    "\n",
    "    countermeasures = 0\n",
    "    for day in range(0,total_days):\n",
    "        \n",
    "        # updating the government countermeasures\n",
    "        if day >= social_distance_after:\n",
    "            countermeasures = 1\n",
    "        if day >= lockdown_after:\n",
    "            countermeasures = 2\n",
    "            \n",
    "        # simulate one day\n",
    "        population_vector = covid_19_one_day(population_vector,\n",
    "                                             countermeasures)\n",
    "        state = [ int(num*all_population) for num in population_vector]\n",
    "        evolution.append(state)\n",
    "\n",
    "    evolution = np.asarray(evolution)\n",
    "    plot_evolution(evolution)\n",
    "    stats_evolution(evolution)\n",
    "    "
   ]
  },
  {
   "cell_type": "markdown",
   "metadata": {},
   "source": [
    "### Simulation\n",
    "Specify the population of the country and the number of deaths for COVID-19 to simulate the outbreak. Specify how long it takes the government to **implement social distance** or to **enforce a lockdown** (in number of days)"
   ]
  },
  {
   "cell_type": "code",
   "execution_count": 56,
   "metadata": {},
   "outputs": [
    {
     "data": {
      "application/vnd.jupyter.widget-view+json": {
       "model_id": "d55a8028a7ff41008e77728a84a05299",
       "version_major": 2,
       "version_minor": 0
      },
      "text/plain": [
       "aW50ZXJhY3RpdmUoY2hpbGRyZW49KFRleHQodmFsdWU9dSc2MTAwMDAwMCcsIGRlc2NyaXB0aW9uPXUnUG9wdWxhdGlvbicpLCBUZXh0KHZhbHVlPXUnMTAwJywgZGVzY3JpcHRpb249dSdEZWHigKY=\n"
      ]
     },
     "metadata": {},
     "output_type": "display_data"
    }
   ],
   "source": [
    "@interact\n",
    "def simulate_interactive(Population='61000000',\n",
    "                         Dead='100', \n",
    "                         Immune='0',\n",
    "                         social_distance = (0,600,10),\n",
    "                         lockdown = (20,600,10),\n",
    "                         simulation_days = 300):\n",
    "    simulate_covid19(Population,\n",
    "                     Dead,\n",
    "                     Immune,\n",
    "                     simulation_days,\n",
    "                     social_distance,\n",
    "                     lockdown)"
   ]
  },
  {
   "cell_type": "code",
   "execution_count": null,
   "metadata": {},
   "outputs": [],
   "source": []
  },
  {
   "cell_type": "code",
   "execution_count": null,
   "metadata": {},
   "outputs": [],
   "source": []
  },
  {
   "cell_type": "code",
   "execution_count": null,
   "metadata": {},
   "outputs": [],
   "source": []
  },
  {
   "cell_type": "code",
   "execution_count": null,
   "metadata": {},
   "outputs": [],
   "source": []
  },
  {
   "cell_type": "code",
   "execution_count": null,
   "metadata": {},
   "outputs": [],
   "source": []
  },
  {
   "cell_type": "code",
   "execution_count": null,
   "metadata": {},
   "outputs": [],
   "source": []
  },
  {
   "cell_type": "code",
   "execution_count": null,
   "metadata": {},
   "outputs": [],
   "source": []
  },
  {
   "cell_type": "code",
   "execution_count": 7,
   "metadata": {},
   "outputs": [
    {
     "name": "stdout",
     "output_type": "stream",
     "text": [
      "9.71795732731\n"
     ]
    }
   ],
   "source": [
    "\n"
   ]
  },
  {
   "cell_type": "code",
   "execution_count": null,
   "metadata": {},
   "outputs": [],
   "source": []
  }
 ],
 "metadata": {
  "kernelspec": {
   "display_name": "Python 2",
   "language": "python",
   "name": "python2"
  },
  "language_info": {
   "codemirror_mode": {
    "name": "ipython",
    "version": 2
   },
   "file_extension": ".py",
   "mimetype": "text/x-python",
   "name": "python",
   "nbconvert_exporter": "python",
   "pygments_lexer": "ipython2",
   "version": "2.7.16"
  }
 },
 "nbformat": 4,
 "nbformat_minor": 2
}
